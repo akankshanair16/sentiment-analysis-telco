{
 "cells": [
  {
   "cell_type": "code",
<<<<<<< HEAD
   "execution_count": null,
   "id": "590f7066-7d7a-48e9-9e0c-13b0d72ce3a4",
=======
   "execution_count": 1,
   "id": "6650b778-6a79-4710-b144-8ab59d034158",
   "metadata": {},
   "outputs": [],
   "source": [
    "import pandas as pd"
   ]
  },
  {
   "cell_type": "code",
   "execution_count": 2,
   "id": "dfd591fd-2126-4b3d-aa6c-435e2d41e2a4",
   "metadata": {},
   "outputs": [
    {
     "name": "stdout",
     "output_type": "stream",
     "text": [
      "['telco_churn_with_all_feedback', 'cleaned_data']\n"
     ]
    }
   ],
   "source": [
    "excel_file=pd.ExcelFile(\"telco_churn_with_all_feedback.xlsx\")\n",
    "print(excel_file.sheet_names)"
   ]
  },
  {
   "cell_type": "code",
   "execution_count": 4,
   "id": "4accead5-3a86-444f-afb0-0b4c40fc0d10",
   "metadata": {},
   "outputs": [],
   "source": [
    "df=pd.read_excel(\"telco_churn_with_all_feedback.xlsx\",sheet_name=\"cleaned_data\")"
   ]
  },
  {
   "cell_type": "code",
   "execution_count": 5,
   "id": "4757a257-aef7-45c8-8789-002956e25752",
   "metadata": {},
   "outputs": [
    {
     "data": {
      "text/html": [
       "<div>\n",
       "<style scoped>\n",
       "    .dataframe tbody tr th:only-of-type {\n",
       "        vertical-align: middle;\n",
       "    }\n",
       "\n",
       "    .dataframe tbody tr th {\n",
       "        vertical-align: top;\n",
       "    }\n",
       "\n",
       "    .dataframe thead th {\n",
       "        text-align: right;\n",
       "    }\n",
       "</style>\n",
       "<table border=\"1\" class=\"dataframe\">\n",
       "  <thead>\n",
       "    <tr style=\"text-align: right;\">\n",
       "      <th></th>\n",
       "      <th>customerID</th>\n",
       "      <th>Churn</th>\n",
       "      <th>Feedback</th>\n",
       "    </tr>\n",
       "  </thead>\n",
       "  <tbody>\n",
       "    <tr>\n",
       "      <th>0</th>\n",
       "      <td>7590-VHVEG</td>\n",
       "      <td>No</td>\n",
       "      <td>I have been using the DSL internet service fro...</td>\n",
       "    </tr>\n",
       "    <tr>\n",
       "      <th>1</th>\n",
       "      <td>5575-GNVDE</td>\n",
       "      <td>No</td>\n",
       "      <td>I have been a customer with this company for o...</td>\n",
       "    </tr>\n",
       "    <tr>\n",
       "      <th>2</th>\n",
       "      <td>3668-QPYBK</td>\n",
       "      <td>Yes</td>\n",
       "      <td>I recently signed up for DSL internet service ...</td>\n",
       "    </tr>\n",
       "    <tr>\n",
       "      <th>3</th>\n",
       "      <td>7795-CFOCW</td>\n",
       "      <td>No</td>\n",
       "      <td>I have been a loyal customer with this company...</td>\n",
       "    </tr>\n",
       "    <tr>\n",
       "      <th>4</th>\n",
       "      <td>9237-HQITU</td>\n",
       "      <td>Yes</td>\n",
       "      <td>I recently switched to this fiber optic intern...</td>\n",
       "    </tr>\n",
       "  </tbody>\n",
       "</table>\n",
       "</div>"
      ],
      "text/plain": [
       "   customerID Churn                                           Feedback\n",
       "0  7590-VHVEG    No  I have been using the DSL internet service fro...\n",
       "1  5575-GNVDE    No  I have been a customer with this company for o...\n",
       "2  3668-QPYBK   Yes  I recently signed up for DSL internet service ...\n",
       "3  7795-CFOCW    No  I have been a loyal customer with this company...\n",
       "4  9237-HQITU   Yes  I recently switched to this fiber optic intern..."
      ]
     },
     "execution_count": 5,
     "metadata": {},
     "output_type": "execute_result"
    }
   ],
   "source": [
    "df.head()"
   ]
  },
  {
   "cell_type": "code",
   "execution_count": 6,
   "id": "4e4cf6df-29ff-48c1-8b12-d672ebe9c7f0",
   "metadata": {},
   "outputs": [
    {
     "name": "stdout",
     "output_type": "stream",
     "text": [
      "Missing feedback rows: 0\n"
     ]
    }
   ],
   "source": [
    "print(f\"Missing feedback rows: {df['Feedback'].isnull().sum()}\")\n",
    "df = df.dropna(subset=['Feedback'])  "
   ]
  },
  {
   "cell_type": "code",
   "execution_count": 7,
   "id": "85638774-eb33-4fd8-bd1b-bbc6f9058585",
   "metadata": {},
   "outputs": [],
   "source": [
    "import nltk\n",
    "from nltk.sentiment.vader import SentimentIntensityAnalyzer"
   ]
  },
  {
   "cell_type": "code",
   "execution_count": 8,
   "id": "07ca9af6-5cf1-430c-9dda-d3ebbcbc6de1",
   "metadata": {},
   "outputs": [
    {
     "name": "stderr",
     "output_type": "stream",
     "text": [
      "[nltk_data] Downloading package vader_lexicon to\n",
      "[nltk_data]     /Users/akankshanair/nltk_data...\n",
      "[nltk_data]   Package vader_lexicon is already up-to-date!\n"
     ]
    }
   ],
   "source": [
    "nltk.download('vader_lexicon')\n",
    "sid=SentimentIntensityAnalyzer()"
   ]
  },
  {
   "cell_type": "code",
   "execution_count": 9,
   "id": "4c5a0a9f-fcf3-49f6-8cba-12d7c55dee99",
   "metadata": {},
   "outputs": [],
   "source": [
    "def get_sentiment(text):\n",
    "    scores = sid.polarity_scores(str(text))\n",
    "    compound = scores['compound']\n",
    "    if compound >= 0.05:\n",
    "        sentiment = 'Positive'\n",
    "    elif compound <= -0.05:\n",
    "        sentiment = 'Negative'\n",
    "    else:\n",
    "        sentiment = 'Neutral'\n",
    "    return pd.Series([compound, sentiment])\n",
    "\n",
    "df[['Compound', 'Sentiment']] = df['Feedback'].apply(get_sentiment)"
   ]
  },
  {
   "cell_type": "code",
   "execution_count": 10,
   "id": "6554d53a-4bb5-4306-a7d0-b429fb48ba01",
   "metadata": {},
   "outputs": [
    {
     "name": "stdout",
     "output_type": "stream",
     "text": [
      "Sentiment\n",
      "Positive    5787\n",
      "Negative    1069\n",
      "Neutral      187\n",
      "Name: count, dtype: int64\n",
      "Average compound score: 0.4685771262246202\n"
     ]
    }
   ],
   "source": [
    "print(df['Sentiment'].value_counts())\n",
    "print(\"Average compound score:\",df['Compound'].mean())"
   ]
  },
  {
   "cell_type": "code",
   "execution_count": 11,
   "id": "51f5e59e-17f4-4ddf-9979-1df645fbc96d",
   "metadata": {},
   "outputs": [
    {
     "name": "stdout",
     "output_type": "stream",
     "text": [
      "Sentiment\n",
      "Negative   -0.500882\n",
      "Neutral    -0.002092\n",
      "Positive    0.662869\n",
      "Name: Compound, dtype: float64\n"
     ]
    }
   ],
   "source": [
    "print(df.groupby('Sentiment')['Compound'].mean())"
   ]
  },
  {
   "cell_type": "code",
   "execution_count": 12,
   "id": "74e55dfd-6d70-4d5a-a38a-099983154348",
   "metadata": {},
   "outputs": [
    {
     "data": {
      "image/png": "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",
      "text/plain": [
       "<Figure size 640x480 with 1 Axes>"
      ]
     },
     "metadata": {},
     "output_type": "display_data"
    }
   ],
   "source": [
    "import seaborn as sns\n",
    "import matplotlib.pyplot as plt\n",
    "\n",
    "sns.countplot(data=df, x='Sentiment')\n",
    "plt.title(\"Sentiment Distribution of Customer Feedback\")\n",
    "plt.xlabel(\"Sentiment\")\n",
    "plt.ylabel(\"Count\")\n",
    "plt.show()"
   ]
  },
  {
   "cell_type": "code",
   "execution_count": 13,
   "id": "38af01b1-7adb-405f-b099-2fbd0fdc0b12",
   "metadata": {},
   "outputs": [
    {
     "data": {
      "image/png": "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",
      "text/plain": [
       "<Figure size 1000x600 with 1 Axes>"
      ]
     },
     "metadata": {},
     "output_type": "display_data"
    }
   ],
   "source": [
    "plt.figure(figsize=(10,6))\n",
    "sns.histplot(df['Compound'], bins=30, kde=True, color='skyblue')\n",
    "plt.axvline(df['Compound'].mean(), color='red', linestyle='--', label=f'Average Compound Score ({df[\"Compound\"].mean():.2f})')\n",
    "plt.title('Distribution of Sentiment Compound Scores')\n",
    "plt.xlabel('Compound Score')\n",
    "plt.ylabel('Frequency')\n",
    "plt.legend()\n",
    "plt.show()"
   ]
  },
  {
   "cell_type": "code",
   "execution_count": 14,
   "id": "0a361734-346a-4eeb-b4b8-513f08236695",
   "metadata": {},
   "outputs": [
    {
     "data": {
      "text/html": [
       "<div>\n",
       "<style scoped>\n",
       "    .dataframe tbody tr th:only-of-type {\n",
       "        vertical-align: middle;\n",
       "    }\n",
       "\n",
       "    .dataframe tbody tr th {\n",
       "        vertical-align: top;\n",
       "    }\n",
       "\n",
       "    .dataframe thead th {\n",
       "        text-align: right;\n",
       "    }\n",
       "</style>\n",
       "<table border=\"1\" class=\"dataframe\">\n",
       "  <thead>\n",
       "    <tr style=\"text-align: right;\">\n",
       "      <th></th>\n",
       "      <th>Feedback</th>\n",
       "      <th>Sentiment</th>\n",
       "      <th>Compound</th>\n",
       "    </tr>\n",
       "  </thead>\n",
       "  <tbody>\n",
       "    <tr>\n",
       "      <th>4194</th>\n",
       "      <td>I recently switched to this internet service p...</td>\n",
       "      <td>Negative</td>\n",
       "      <td>-0.1401</td>\n",
       "    </tr>\n",
       "    <tr>\n",
       "      <th>4485</th>\n",
       "      <td>I have been a customer for over four years now...</td>\n",
       "      <td>Positive</td>\n",
       "      <td>0.7496</td>\n",
       "    </tr>\n",
       "    <tr>\n",
       "      <th>3434</th>\n",
       "      <td>I have been a customer with this company for 5...</td>\n",
       "      <td>Positive</td>\n",
       "      <td>0.9674</td>\n",
       "    </tr>\n",
       "    <tr>\n",
       "      <th>1308</th>\n",
       "      <td>I have been a customer with this DSL internet ...</td>\n",
       "      <td>Positive</td>\n",
       "      <td>0.5095</td>\n",
       "    </tr>\n",
       "    <tr>\n",
       "      <th>169</th>\n",
       "      <td>I have been a customer with this company for 1...</td>\n",
       "      <td>Positive</td>\n",
       "      <td>0.9381</td>\n",
       "    </tr>\n",
       "    <tr>\n",
       "      <th>5658</th>\n",
       "      <td>I recently decided to cancel my service with t...</td>\n",
       "      <td>Positive</td>\n",
       "      <td>0.6858</td>\n",
       "    </tr>\n",
       "    <tr>\n",
       "      <th>5418</th>\n",
       "      <td>I recently decided to cancel my service after ...</td>\n",
       "      <td>Positive</td>\n",
       "      <td>0.9628</td>\n",
       "    </tr>\n",
       "    <tr>\n",
       "      <th>4664</th>\n",
       "      <td>I have been a customer with this company for 1...</td>\n",
       "      <td>Positive</td>\n",
       "      <td>0.9545</td>\n",
       "    </tr>\n",
       "    <tr>\n",
       "      <th>5840</th>\n",
       "      <td>I have been a customer with this company for 4...</td>\n",
       "      <td>Positive</td>\n",
       "      <td>0.8221</td>\n",
       "    </tr>\n",
       "    <tr>\n",
       "      <th>2051</th>\n",
       "      <td>I have been a customer with this company for 1...</td>\n",
       "      <td>Neutral</td>\n",
       "      <td>0.0202</td>\n",
       "    </tr>\n",
       "  </tbody>\n",
       "</table>\n",
       "</div>"
      ],
      "text/plain": [
       "                                               Feedback Sentiment  Compound\n",
       "4194  I recently switched to this internet service p...  Negative   -0.1401\n",
       "4485  I have been a customer for over four years now...  Positive    0.7496\n",
       "3434  I have been a customer with this company for 5...  Positive    0.9674\n",
       "1308  I have been a customer with this DSL internet ...  Positive    0.5095\n",
       "169   I have been a customer with this company for 1...  Positive    0.9381\n",
       "5658  I recently decided to cancel my service with t...  Positive    0.6858\n",
       "5418  I recently decided to cancel my service after ...  Positive    0.9628\n",
       "4664  I have been a customer with this company for 1...  Positive    0.9545\n",
       "5840  I have been a customer with this company for 4...  Positive    0.8221\n",
       "2051  I have been a customer with this company for 1...   Neutral    0.0202"
      ]
     },
     "execution_count": 14,
     "metadata": {},
     "output_type": "execute_result"
    }
   ],
   "source": [
    "df[['Feedback', 'Sentiment', 'Compound']].sample(10)"
   ]
  },
  {
   "cell_type": "code",
   "execution_count": 17,
   "id": "6e9066bc-3829-499b-890a-e3d5bd9fb392",
   "metadata": {},
   "outputs": [
    {
     "name": "stdout",
     "output_type": "stream",
     "text": [
      "                                                                                                                                                                                                                                                                                                                                                                                                                                                                                                                                                                               Feedback Sentiment  Compound\n",
      "                                                                                                                                                                                                           I have been a customer with this company for 6 years now and I have been very satisfied with the service. The DSL internet has been reliable and the monthly charges are reasonable at $83.6. I appreciate the convenience of automatic credit card payments. Overall, I have had no issues with churn and I plan to continue using this service for the foreseeable future.  Positive    0.6240\n",
      "                                                                                           I recently cancelled my DSL internet service after just 4 months of being a customer. I found the service to be unreliable at times, with slow speeds and frequent outages. The monthly charges were reasonable at $29.65, but I expected better performance for the price. I also had issues with the payment method, as the electronic check payment option was not always convenient for me. Overall, I was not satisfied with the service and decided to switch to a different provider.  Negative   -0.0511\n",
      "                                                                                                                                        I have been a customer with this company for over five years and have been satisfied with the service overall. The monthly charges are reasonable at $20.55 and I appreciate the convenience of paying with electronic check. However, I do not have internet service with this provider so I cannot speak to the quality of that service. Overall, I have had a positive experience with this company and have no plans to churn at this time.  Positive    0.7003\n",
      "                                             I recently switched to this internet service provider and I am extremely disappointed with the experience. The monthly charges are quite high at $89.3 and the service itself is subpar. Despite it being fiber optic, I have experienced multiple interruptions in my internet connection in just the short span of 1 month. Additionally, the payment method of electronic check has been frustrating to deal with. I have decided to churn and look for a better provider that offers more reliable service at a more reasonable price.  Negative   -0.8016\n",
      "                                                                                                                                                       I have been a customer with this company for over 5 years now and I have been very satisfied with the service. The fiber optic internet is fast and reliable, and I have had no issues with connectivity. The monthly charges are reasonable for the quality of service provided. I appreciate the convenience of the electronic check payment method. Overall, I have no complaints and would recommend this company to others.   Neutral    0.0240\n",
      "                                                                                                                          I have been a customer with this company for 35 months now and I have been very satisfied with the service. The automatic bank transfer payment method makes it convenient for me to pay my monthly charges of $20.6 for my one-year contract. Although I do not have internet service with this company, I have not experienced any issues with my other services. I am happy to say that I have not churned and I plan on continuing my contract with them.  Positive    0.6478\n",
      "                                                                                                                                I have been a customer with this company for 18 months now and I have been very satisfied with the service. The automatic credit card payment method makes it convenient for me to pay my monthly charges of $24.65 for my two-year contract. Even though I do not have internet service with this company, I have not experienced any issues or disruptions with my other services. Overall, I am happy with my experience and have no plans to churn.  Positive    0.5095\n",
      "I recently decided to switch internet service providers after being with this company for 13 months on a month-to-month contract. The monthly charges of $100.8 were reasonable for the fiber optic internet service I received. However, I ultimately decided to churn because I found a better deal with another provider. The payment method of electronic check was convenient and I never had any issues with billing or payments during my time with this company. Overall, I had a positive experience with this company but ultimately chose to switch for cost-saving reasons.  Positive    0.4019\n",
      "                                                                                                                                                         I have been a customer with this company for 25 months now and I have been very satisfied with the service. The monthly charges are reasonable at $25.5 and I appreciate the convenience of automatic credit card payments. Even though I do not have internet service with this company, I have had no issues with my service and do not plan on churning anytime soon. Overall, I am happy with my experience as a customer.  Positive    0.8313\n",
      "                                                                                                                                                                                                       I have been a customer with this company for over 2 and a half years now and I have been very satisfied with the service. The DSL internet has been reliable and consistent, and the monthly charges are reasonable at $62.45. I appreciate the convenience of the automatic bank transfer payment method. Overall, I have had a positive experience and have no plans to leave.  Positive    0.7089\n"
     ]
    }
   ],
   "source": [
    "print(df[['Feedback', 'Sentiment', 'Compound']].sample(10).to_string(index=False))"
   ]
  },
  {
   "cell_type": "code",
   "execution_count": 18,
   "id": "8dc84987-804e-4754-ae9a-83be087f63b3",
   "metadata": {},
   "outputs": [],
   "source": [
    "df.to_excel(\"feedback_with_sentiment.xlsx\", index=False)"
   ]
  },
  {
   "cell_type": "code",
   "execution_count": null,
   "id": "21aed401-55a2-4a47-83fc-a9873a50b704",
>>>>>>> b43b3c3 (Initial commit: added notebook and dataset files)
   "metadata": {},
   "outputs": [],
   "source": []
  }
 ],
 "metadata": {
  "kernelspec": {
   "display_name": "Python [conda env:base] *",
   "language": "python",
   "name": "conda-base-py"
  },
  "language_info": {
   "codemirror_mode": {
    "name": "ipython",
    "version": 3
   },
   "file_extension": ".py",
   "mimetype": "text/x-python",
   "name": "python",
   "nbconvert_exporter": "python",
   "pygments_lexer": "ipython3",
   "version": "3.12.7"
  }
 },
 "nbformat": 4,
 "nbformat_minor": 5
}
